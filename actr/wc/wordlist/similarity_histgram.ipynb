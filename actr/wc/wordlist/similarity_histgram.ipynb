{
 "cells": [
  {
   "cell_type": "code",
   "execution_count": 1,
   "metadata": {},
   "outputs": [],
   "source": [
    "import re\n",
    "import matplotlib.pyplot as plt"
   ]
  },
  {
   "cell_type": "code",
   "execution_count": 2,
   "metadata": {},
   "outputs": [],
   "source": [
    "sim1_path = \"./mora_sim1.lisp\"\n",
    "sim2_path = \"./mora_sim2.lisp\"\n",
    "sim1 = []\n",
    "sim2 = []\n",
    "\n",
    "with open(sim1_path) as sim1_file, open(sim2_path) as sim2_file:\n",
    "    sim1 = sim1_file.readlines()\n",
    "    sim2 = sim2_file.readlines()\n",
    "    #print(sim1[-1])\n",
    "    sim1 = sim1[4:-1]\n",
    "    #print(sim1)\n",
    "    sim2 = sim2[4:-1]\n",
    "    #print(sim2[-1])\n",
    "\n",
    "    sim1 = [float(re.sub(\"[a-z\\n\\s\\(\\)]\", \"\" , x)) for x in sim1]\n",
    "    sim2 = [float(re.sub(\"[a-z\\n\\s\\(\\)]\", \"\" , x)) for x in sim2]\n",
    "    #print(sim1)\n",
    "\n"
   ]
  },
  {
   "cell_type": "code",
   "execution_count": 3,
   "metadata": {},
   "outputs": [
    {
     "data": {
      "image/png": "[encoded data removed]",
      "text/plain": [
       "<Figure size 432x288 with 1 Axes>"
      ]
     },
     "metadata": {
      "needs_background": "light"
     },
     "output_type": "display_data"
    }
   ],
   "source": [
    "plt.hist(sim1)\n",
    "plt.title(\"sim1\")\n",
    "plt.show()"
   ]
  },
  {
   "cell_type": "code",
   "execution_count": 23,
   "metadata": {},
   "outputs": [
    {
     "data": {
      "image/png": "[encoded data removed]",
      "text/plain": [
       "<Figure size 432x288 with 1 Axes>"
      ]
     },
     "metadata": {
      "needs_background": "light"
     },
     "output_type": "display_data"
    }
   ],
   "source": [
    "plt.hist(sim2)\n",
    "plt.title(\"sim2\")\n",
    "plt.show()"
   ]
  },
  {
   "cell_type": "code",
   "execution_count": null,
   "metadata": {},
   "outputs": [],
   "source": []
  }
 ],
 "metadata": {
  "kernelspec": {
   "display_name": "Python 3.9.4 ('my_env')",
   "language": "python",
   "name": "python3"
  },
  "language_info": {
   "codemirror_mode": {
    "name": "ipython",
    "version": 3
   },
   "file_extension": ".py",
   "mimetype": "text/x-python",
   "name": "python",
   "nbconvert_exporter": "python",
   "pygments_lexer": "ipython3",
   "version": "3.9.4"
  },
  "orig_nbformat": 4,
  "vscode": {
   "interpreter": {
    "hash": "de514bc4764f34c42f2c3c38faf80d40df252ce645907c27928a3984d2f586ab"
   }
  }
 },
 "nbformat": 4,
 "nbformat_minor": 2
}
